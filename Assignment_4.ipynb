{
  "nbformat": 4,
  "nbformat_minor": 0,
  "metadata": {
    "colab": {
      "provenance": [],
      "authorship_tag": "ABX9TyOA9jXPnXMHEFcvhO6Gl9Nj",
      "include_colab_link": true
    },
    "kernelspec": {
      "name": "python3",
      "display_name": "Python 3"
    },
    "language_info": {
      "name": "python"
    },
    "accelerator": "GPU",
    "gpuClass": "standard",
    "widgets": {
      "application/vnd.jupyter.widget-state+json": {
        "c6462c7851ca4c46bfd80b0db4f59e43": {
          "model_module": "@jupyter-widgets/controls",
          "model_name": "HBoxModel",
          "model_module_version": "1.5.0",
          "state": {
            "_dom_classes": [],
            "_model_module": "@jupyter-widgets/controls",
            "_model_module_version": "1.5.0",
            "_model_name": "HBoxModel",
            "_view_count": null,
            "_view_module": "@jupyter-widgets/controls",
            "_view_module_version": "1.5.0",
            "_view_name": "HBoxView",
            "box_style": "",
            "children": [
              "IPY_MODEL_121e92ab6f124a439f27062507c0dd01",
              "IPY_MODEL_51f1b2b811d04501885cc70d2fa92bd5",
              "IPY_MODEL_3aae7683d65f4577ba37f0fa4befcfd0"
            ],
            "layout": "IPY_MODEL_673056f82a9a4a92a93359eed3b2916e"
          }
        },
        "121e92ab6f124a439f27062507c0dd01": {
          "model_module": "@jupyter-widgets/controls",
          "model_name": "HTMLModel",
          "model_module_version": "1.5.0",
          "state": {
            "_dom_classes": [],
            "_model_module": "@jupyter-widgets/controls",
            "_model_module_version": "1.5.0",
            "_model_name": "HTMLModel",
            "_view_count": null,
            "_view_module": "@jupyter-widgets/controls",
            "_view_module_version": "1.5.0",
            "_view_name": "HTMLView",
            "description": "",
            "description_tooltip": null,
            "layout": "IPY_MODEL_220d0e5c9dbd468d99c82cd1a2c31758",
            "placeholder": "​",
            "style": "IPY_MODEL_6b02312615fe4994918cc48eaaebe6d6",
            "value": "Downloading builder script: 100%"
          }
        },
        "51f1b2b811d04501885cc70d2fa92bd5": {
          "model_module": "@jupyter-widgets/controls",
          "model_name": "FloatProgressModel",
          "model_module_version": "1.5.0",
          "state": {
            "_dom_classes": [],
            "_model_module": "@jupyter-widgets/controls",
            "_model_module_version": "1.5.0",
            "_model_name": "FloatProgressModel",
            "_view_count": null,
            "_view_module": "@jupyter-widgets/controls",
            "_view_module_version": "1.5.0",
            "_view_name": "ProgressView",
            "bar_style": "success",
            "description": "",
            "description_tooltip": null,
            "layout": "IPY_MODEL_fff4efc2489645c8b4a4cf03ca476147",
            "max": 4203,
            "min": 0,
            "orientation": "horizontal",
            "style": "IPY_MODEL_87dbcfd6898d4dcd93c277b54fdda012",
            "value": 4203
          }
        },
        "3aae7683d65f4577ba37f0fa4befcfd0": {
          "model_module": "@jupyter-widgets/controls",
          "model_name": "HTMLModel",
          "model_module_version": "1.5.0",
          "state": {
            "_dom_classes": [],
            "_model_module": "@jupyter-widgets/controls",
            "_model_module_version": "1.5.0",
            "_model_name": "HTMLModel",
            "_view_count": null,
            "_view_module": "@jupyter-widgets/controls",
            "_view_module_version": "1.5.0",
            "_view_name": "HTMLView",
            "description": "",
            "description_tooltip": null,
            "layout": "IPY_MODEL_39a927b6e837457593f4b6126665ed27",
            "placeholder": "​",
            "style": "IPY_MODEL_41718010ee6f492788535c8accf99345",
            "value": " 4.20k/4.20k [00:00&lt;00:00, 146kB/s]"
          }
        },
        "673056f82a9a4a92a93359eed3b2916e": {
          "model_module": "@jupyter-widgets/base",
          "model_name": "LayoutModel",
          "model_module_version": "1.2.0",
          "state": {
            "_model_module": "@jupyter-widgets/base",
            "_model_module_version": "1.2.0",
            "_model_name": "LayoutModel",
            "_view_count": null,
            "_view_module": "@jupyter-widgets/base",
            "_view_module_version": "1.2.0",
            "_view_name": "LayoutView",
            "align_content": null,
            "align_items": null,
            "align_self": null,
            "border": null,
            "bottom": null,
            "display": null,
            "flex": null,
            "flex_flow": null,
            "grid_area": null,
            "grid_auto_columns": null,
            "grid_auto_flow": null,
            "grid_auto_rows": null,
            "grid_column": null,
            "grid_gap": null,
            "grid_row": null,
            "grid_template_areas": null,
            "grid_template_columns": null,
            "grid_template_rows": null,
            "height": null,
            "justify_content": null,
            "justify_items": null,
            "left": null,
            "margin": null,
            "max_height": null,
            "max_width": null,
            "min_height": null,
            "min_width": null,
            "object_fit": null,
            "object_position": null,
            "order": null,
            "overflow": null,
            "overflow_x": null,
            "overflow_y": null,
            "padding": null,
            "right": null,
            "top": null,
            "visibility": null,
            "width": null
          }
        },
        "220d0e5c9dbd468d99c82cd1a2c31758": {
          "model_module": "@jupyter-widgets/base",
          "model_name": "LayoutModel",
          "model_module_version": "1.2.0",
          "state": {
            "_model_module": "@jupyter-widgets/base",
            "_model_module_version": "1.2.0",
            "_model_name": "LayoutModel",
            "_view_count": null,
            "_view_module": "@jupyter-widgets/base",
            "_view_module_version": "1.2.0",
            "_view_name": "LayoutView",
            "align_content": null,
            "align_items": null,
            "align_self": null,
            "border": null,
            "bottom": null,
            "display": null,
            "flex": null,
            "flex_flow": null,
            "grid_area": null,
            "grid_auto_columns": null,
            "grid_auto_flow": null,
            "grid_auto_rows": null,
            "grid_column": null,
            "grid_gap": null,
            "grid_row": null,
            "grid_template_areas": null,
            "grid_template_columns": null,
            "grid_template_rows": null,
            "height": null,
            "justify_content": null,
            "justify_items": null,
            "left": null,
            "margin": null,
            "max_height": null,
            "max_width": null,
            "min_height": null,
            "min_width": null,
            "object_fit": null,
            "object_position": null,
            "order": null,
            "overflow": null,
            "overflow_x": null,
            "overflow_y": null,
            "padding": null,
            "right": null,
            "top": null,
            "visibility": null,
            "width": null
          }
        },
        "6b02312615fe4994918cc48eaaebe6d6": {
          "model_module": "@jupyter-widgets/controls",
          "model_name": "DescriptionStyleModel",
          "model_module_version": "1.5.0",
          "state": {
            "_model_module": "@jupyter-widgets/controls",
            "_model_module_version": "1.5.0",
            "_model_name": "DescriptionStyleModel",
            "_view_count": null,
            "_view_module": "@jupyter-widgets/base",
            "_view_module_version": "1.2.0",
            "_view_name": "StyleView",
            "description_width": ""
          }
        },
        "fff4efc2489645c8b4a4cf03ca476147": {
          "model_module": "@jupyter-widgets/base",
          "model_name": "LayoutModel",
          "model_module_version": "1.2.0",
          "state": {
            "_model_module": "@jupyter-widgets/base",
            "_model_module_version": "1.2.0",
            "_model_name": "LayoutModel",
            "_view_count": null,
            "_view_module": "@jupyter-widgets/base",
            "_view_module_version": "1.2.0",
            "_view_name": "LayoutView",
            "align_content": null,
            "align_items": null,
            "align_self": null,
            "border": null,
            "bottom": null,
            "display": null,
            "flex": null,
            "flex_flow": null,
            "grid_area": null,
            "grid_auto_columns": null,
            "grid_auto_flow": null,
            "grid_auto_rows": null,
            "grid_column": null,
            "grid_gap": null,
            "grid_row": null,
            "grid_template_areas": null,
            "grid_template_columns": null,
            "grid_template_rows": null,
            "height": null,
            "justify_content": null,
            "justify_items": null,
            "left": null,
            "margin": null,
            "max_height": null,
            "max_width": null,
            "min_height": null,
            "min_width": null,
            "object_fit": null,
            "object_position": null,
            "order": null,
            "overflow": null,
            "overflow_x": null,
            "overflow_y": null,
            "padding": null,
            "right": null,
            "top": null,
            "visibility": null,
            "width": null
          }
        },
        "87dbcfd6898d4dcd93c277b54fdda012": {
          "model_module": "@jupyter-widgets/controls",
          "model_name": "ProgressStyleModel",
          "model_module_version": "1.5.0",
          "state": {
            "_model_module": "@jupyter-widgets/controls",
            "_model_module_version": "1.5.0",
            "_model_name": "ProgressStyleModel",
            "_view_count": null,
            "_view_module": "@jupyter-widgets/base",
            "_view_module_version": "1.2.0",
            "_view_name": "StyleView",
            "bar_color": null,
            "description_width": ""
          }
        },
        "39a927b6e837457593f4b6126665ed27": {
          "model_module": "@jupyter-widgets/base",
          "model_name": "LayoutModel",
          "model_module_version": "1.2.0",
          "state": {
            "_model_module": "@jupyter-widgets/base",
            "_model_module_version": "1.2.0",
            "_model_name": "LayoutModel",
            "_view_count": null,
            "_view_module": "@jupyter-widgets/base",
            "_view_module_version": "1.2.0",
            "_view_name": "LayoutView",
            "align_content": null,
            "align_items": null,
            "align_self": null,
            "border": null,
            "bottom": null,
            "display": null,
            "flex": null,
            "flex_flow": null,
            "grid_area": null,
            "grid_auto_columns": null,
            "grid_auto_flow": null,
            "grid_auto_rows": null,
            "grid_column": null,
            "grid_gap": null,
            "grid_row": null,
            "grid_template_areas": null,
            "grid_template_columns": null,
            "grid_template_rows": null,
            "height": null,
            "justify_content": null,
            "justify_items": null,
            "left": null,
            "margin": null,
            "max_height": null,
            "max_width": null,
            "min_height": null,
            "min_width": null,
            "object_fit": null,
            "object_position": null,
            "order": null,
            "overflow": null,
            "overflow_x": null,
            "overflow_y": null,
            "padding": null,
            "right": null,
            "top": null,
            "visibility": null,
            "width": null
          }
        },
        "41718010ee6f492788535c8accf99345": {
          "model_module": "@jupyter-widgets/controls",
          "model_name": "DescriptionStyleModel",
          "model_module_version": "1.5.0",
          "state": {
            "_model_module": "@jupyter-widgets/controls",
            "_model_module_version": "1.5.0",
            "_model_name": "DescriptionStyleModel",
            "_view_count": null,
            "_view_module": "@jupyter-widgets/base",
            "_view_module_version": "1.2.0",
            "_view_name": "StyleView",
            "description_width": ""
          }
        },
        "b91742e0a81941f0a4bab21315ad545c": {
          "model_module": "@jupyter-widgets/controls",
          "model_name": "HBoxModel",
          "model_module_version": "1.5.0",
          "state": {
            "_dom_classes": [],
            "_model_module": "@jupyter-widgets/controls",
            "_model_module_version": "1.5.0",
            "_model_name": "HBoxModel",
            "_view_count": null,
            "_view_module": "@jupyter-widgets/controls",
            "_view_module_version": "1.5.0",
            "_view_name": "HBoxView",
            "box_style": "",
            "children": [
              "IPY_MODEL_ffdce4e7db4344609fb4baaa2f87c8f4",
              "IPY_MODEL_009e475dd1774204b9f0620f2a96e4bb",
              "IPY_MODEL_57f97762379c4c9181d2b9f7fd0e663f"
            ],
            "layout": "IPY_MODEL_eb89e66156294017a95f0bd71101690a"
          }
        },
        "ffdce4e7db4344609fb4baaa2f87c8f4": {
          "model_module": "@jupyter-widgets/controls",
          "model_name": "HTMLModel",
          "model_module_version": "1.5.0",
          "state": {
            "_dom_classes": [],
            "_model_module": "@jupyter-widgets/controls",
            "_model_module_version": "1.5.0",
            "_model_name": "HTMLModel",
            "_view_count": null,
            "_view_module": "@jupyter-widgets/controls",
            "_view_module_version": "1.5.0",
            "_view_name": "HTMLView",
            "description": "",
            "description_tooltip": null,
            "layout": "IPY_MODEL_fba30ea8c9804c44a6e85b759700c935",
            "placeholder": "​",
            "style": "IPY_MODEL_d720b6bcce624a7ea334921d9fe116b0",
            "value": "Downloading pytorch_model.bin: 100%"
          }
        },
        "009e475dd1774204b9f0620f2a96e4bb": {
          "model_module": "@jupyter-widgets/controls",
          "model_name": "FloatProgressModel",
          "model_module_version": "1.5.0",
          "state": {
            "_dom_classes": [],
            "_model_module": "@jupyter-widgets/controls",
            "_model_module_version": "1.5.0",
            "_model_name": "FloatProgressModel",
            "_view_count": null,
            "_view_module": "@jupyter-widgets/controls",
            "_view_module_version": "1.5.0",
            "_view_name": "ProgressView",
            "bar_style": "success",
            "description": "",
            "description_tooltip": null,
            "layout": "IPY_MODEL_a85f531641344a93917d35f4f857a534",
            "max": 267967963,
            "min": 0,
            "orientation": "horizontal",
            "style": "IPY_MODEL_2e5f9dabe3764b36b8cd6fbd9f2d9f21",
            "value": 267967963
          }
        },
        "57f97762379c4c9181d2b9f7fd0e663f": {
          "model_module": "@jupyter-widgets/controls",
          "model_name": "HTMLModel",
          "model_module_version": "1.5.0",
          "state": {
            "_dom_classes": [],
            "_model_module": "@jupyter-widgets/controls",
            "_model_module_version": "1.5.0",
            "_model_name": "HTMLModel",
            "_view_count": null,
            "_view_module": "@jupyter-widgets/controls",
            "_view_module_version": "1.5.0",
            "_view_name": "HTMLView",
            "description": "",
            "description_tooltip": null,
            "layout": "IPY_MODEL_8ed2103cf43f486ea0645bde8daadb44",
            "placeholder": "​",
            "style": "IPY_MODEL_60fc3d9163474fad86327abe01636c8c",
            "value": " 268M/268M [00:03&lt;00:00, 86.3MB/s]"
          }
        },
        "eb89e66156294017a95f0bd71101690a": {
          "model_module": "@jupyter-widgets/base",
          "model_name": "LayoutModel",
          "model_module_version": "1.2.0",
          "state": {
            "_model_module": "@jupyter-widgets/base",
            "_model_module_version": "1.2.0",
            "_model_name": "LayoutModel",
            "_view_count": null,
            "_view_module": "@jupyter-widgets/base",
            "_view_module_version": "1.2.0",
            "_view_name": "LayoutView",
            "align_content": null,
            "align_items": null,
            "align_self": null,
            "border": null,
            "bottom": null,
            "display": null,
            "flex": null,
            "flex_flow": null,
            "grid_area": null,
            "grid_auto_columns": null,
            "grid_auto_flow": null,
            "grid_auto_rows": null,
            "grid_column": null,
            "grid_gap": null,
            "grid_row": null,
            "grid_template_areas": null,
            "grid_template_columns": null,
            "grid_template_rows": null,
            "height": null,
            "justify_content": null,
            "justify_items": null,
            "left": null,
            "margin": null,
            "max_height": null,
            "max_width": null,
            "min_height": null,
            "min_width": null,
            "object_fit": null,
            "object_position": null,
            "order": null,
            "overflow": null,
            "overflow_x": null,
            "overflow_y": null,
            "padding": null,
            "right": null,
            "top": null,
            "visibility": null,
            "width": null
          }
        },
        "fba30ea8c9804c44a6e85b759700c935": {
          "model_module": "@jupyter-widgets/base",
          "model_name": "LayoutModel",
          "model_module_version": "1.2.0",
          "state": {
            "_model_module": "@jupyter-widgets/base",
            "_model_module_version": "1.2.0",
            "_model_name": "LayoutModel",
            "_view_count": null,
            "_view_module": "@jupyter-widgets/base",
            "_view_module_version": "1.2.0",
            "_view_name": "LayoutView",
            "align_content": null,
            "align_items": null,
            "align_self": null,
            "border": null,
            "bottom": null,
            "display": null,
            "flex": null,
            "flex_flow": null,
            "grid_area": null,
            "grid_auto_columns": null,
            "grid_auto_flow": null,
            "grid_auto_rows": null,
            "grid_column": null,
            "grid_gap": null,
            "grid_row": null,
            "grid_template_areas": null,
            "grid_template_columns": null,
            "grid_template_rows": null,
            "height": null,
            "justify_content": null,
            "justify_items": null,
            "left": null,
            "margin": null,
            "max_height": null,
            "max_width": null,
            "min_height": null,
            "min_width": null,
            "object_fit": null,
            "object_position": null,
            "order": null,
            "overflow": null,
            "overflow_x": null,
            "overflow_y": null,
            "padding": null,
            "right": null,
            "top": null,
            "visibility": null,
            "width": null
          }
        },
        "d720b6bcce624a7ea334921d9fe116b0": {
          "model_module": "@jupyter-widgets/controls",
          "model_name": "DescriptionStyleModel",
          "model_module_version": "1.5.0",
          "state": {
            "_model_module": "@jupyter-widgets/controls",
            "_model_module_version": "1.5.0",
            "_model_name": "DescriptionStyleModel",
            "_view_count": null,
            "_view_module": "@jupyter-widgets/base",
            "_view_module_version": "1.2.0",
            "_view_name": "StyleView",
            "description_width": ""
          }
        },
        "a85f531641344a93917d35f4f857a534": {
          "model_module": "@jupyter-widgets/base",
          "model_name": "LayoutModel",
          "model_module_version": "1.2.0",
          "state": {
            "_model_module": "@jupyter-widgets/base",
            "_model_module_version": "1.2.0",
            "_model_name": "LayoutModel",
            "_view_count": null,
            "_view_module": "@jupyter-widgets/base",
            "_view_module_version": "1.2.0",
            "_view_name": "LayoutView",
            "align_content": null,
            "align_items": null,
            "align_self": null,
            "border": null,
            "bottom": null,
            "display": null,
            "flex": null,
            "flex_flow": null,
            "grid_area": null,
            "grid_auto_columns": null,
            "grid_auto_flow": null,
            "grid_auto_rows": null,
            "grid_column": null,
            "grid_gap": null,
            "grid_row": null,
            "grid_template_areas": null,
            "grid_template_columns": null,
            "grid_template_rows": null,
            "height": null,
            "justify_content": null,
            "justify_items": null,
            "left": null,
            "margin": null,
            "max_height": null,
            "max_width": null,
            "min_height": null,
            "min_width": null,
            "object_fit": null,
            "object_position": null,
            "order": null,
            "overflow": null,
            "overflow_x": null,
            "overflow_y": null,
            "padding": null,
            "right": null,
            "top": null,
            "visibility": null,
            "width": null
          }
        },
        "2e5f9dabe3764b36b8cd6fbd9f2d9f21": {
          "model_module": "@jupyter-widgets/controls",
          "model_name": "ProgressStyleModel",
          "model_module_version": "1.5.0",
          "state": {
            "_model_module": "@jupyter-widgets/controls",
            "_model_module_version": "1.5.0",
            "_model_name": "ProgressStyleModel",
            "_view_count": null,
            "_view_module": "@jupyter-widgets/base",
            "_view_module_version": "1.2.0",
            "_view_name": "StyleView",
            "bar_color": null,
            "description_width": ""
          }
        },
        "8ed2103cf43f486ea0645bde8daadb44": {
          "model_module": "@jupyter-widgets/base",
          "model_name": "LayoutModel",
          "model_module_version": "1.2.0",
          "state": {
            "_model_module": "@jupyter-widgets/base",
            "_model_module_version": "1.2.0",
            "_model_name": "LayoutModel",
            "_view_count": null,
            "_view_module": "@jupyter-widgets/base",
            "_view_module_version": "1.2.0",
            "_view_name": "LayoutView",
            "align_content": null,
            "align_items": null,
            "align_self": null,
            "border": null,
            "bottom": null,
            "display": null,
            "flex": null,
            "flex_flow": null,
            "grid_area": null,
            "grid_auto_columns": null,
            "grid_auto_flow": null,
            "grid_auto_rows": null,
            "grid_column": null,
            "grid_gap": null,
            "grid_row": null,
            "grid_template_areas": null,
            "grid_template_columns": null,
            "grid_template_rows": null,
            "height": null,
            "justify_content": null,
            "justify_items": null,
            "left": null,
            "margin": null,
            "max_height": null,
            "max_width": null,
            "min_height": null,
            "min_width": null,
            "object_fit": null,
            "object_position": null,
            "order": null,
            "overflow": null,
            "overflow_x": null,
            "overflow_y": null,
            "padding": null,
            "right": null,
            "top": null,
            "visibility": null,
            "width": null
          }
        },
        "60fc3d9163474fad86327abe01636c8c": {
          "model_module": "@jupyter-widgets/controls",
          "model_name": "DescriptionStyleModel",
          "model_module_version": "1.5.0",
          "state": {
            "_model_module": "@jupyter-widgets/controls",
            "_model_module_version": "1.5.0",
            "_model_name": "DescriptionStyleModel",
            "_view_count": null,
            "_view_module": "@jupyter-widgets/base",
            "_view_module_version": "1.2.0",
            "_view_name": "StyleView",
            "description_width": ""
          }
        }
      }
    }
  },
  "cells": [
    {
      "cell_type": "markdown",
      "metadata": {
        "id": "view-in-github",
        "colab_type": "text"
      },
      "source": [
        "<a href=\"https://colab.research.google.com/github/pavanswaroopl/NLP/blob/main/Assignment_4.ipynb\" target=\"_parent\"><img src=\"https://colab.research.google.com/assets/colab-badge.svg\" alt=\"Open In Colab\"/></a>"
      ]
    },
    {
      "cell_type": "code",
      "execution_count": 1,
      "metadata": {
        "id": "3TKKuiQg7Des",
        "colab": {
          "base_uri": "https://localhost:8080/",
          "height": 0
        },
        "outputId": "4f27448a-5214-463f-f309-2f548d6c08fa"
      },
      "outputs": [
        {
          "output_type": "stream",
          "name": "stdout",
          "text": [
            "Looking in indexes: https://pypi.org/simple, https://us-python.pkg.dev/colab-wheels/public/simple/\n",
            "Requirement already satisfied: transformers in /usr/local/lib/python3.9/dist-packages (4.27.4)\n",
            "Requirement already satisfied: regex!=2019.12.17 in /usr/local/lib/python3.9/dist-packages (from transformers) (2022.10.31)\n",
            "Requirement already satisfied: numpy>=1.17 in /usr/local/lib/python3.9/dist-packages (from transformers) (1.22.4)\n",
            "Requirement already satisfied: pyyaml>=5.1 in /usr/local/lib/python3.9/dist-packages (from transformers) (6.0)\n",
            "Requirement already satisfied: tokenizers!=0.11.3,<0.14,>=0.11.1 in /usr/local/lib/python3.9/dist-packages (from transformers) (0.13.2)\n",
            "Requirement already satisfied: huggingface-hub<1.0,>=0.11.0 in /usr/local/lib/python3.9/dist-packages (from transformers) (0.13.3)\n",
            "Requirement already satisfied: packaging>=20.0 in /usr/local/lib/python3.9/dist-packages (from transformers) (23.0)\n",
            "Requirement already satisfied: requests in /usr/local/lib/python3.9/dist-packages (from transformers) (2.27.1)\n",
            "Requirement already satisfied: tqdm>=4.27 in /usr/local/lib/python3.9/dist-packages (from transformers) (4.65.0)\n",
            "Requirement already satisfied: filelock in /usr/local/lib/python3.9/dist-packages (from transformers) (3.10.7)\n",
            "Requirement already satisfied: typing-extensions>=3.7.4.3 in /usr/local/lib/python3.9/dist-packages (from huggingface-hub<1.0,>=0.11.0->transformers) (4.5.0)\n",
            "Requirement already satisfied: urllib3<1.27,>=1.21.1 in /usr/local/lib/python3.9/dist-packages (from requests->transformers) (1.26.15)\n",
            "Requirement already satisfied: certifi>=2017.4.17 in /usr/local/lib/python3.9/dist-packages (from requests->transformers) (2022.12.7)\n",
            "Requirement already satisfied: charset-normalizer~=2.0.0 in /usr/local/lib/python3.9/dist-packages (from requests->transformers) (2.0.12)\n",
            "Requirement already satisfied: idna<4,>=2.5 in /usr/local/lib/python3.9/dist-packages (from requests->transformers) (3.4)\n",
            "Looking in indexes: https://pypi.org/simple, https://us-python.pkg.dev/colab-wheels/public/simple/\n",
            "Requirement already satisfied: evaluate in /usr/local/lib/python3.9/dist-packages (0.4.0)\n",
            "Requirement already satisfied: datasets>=2.0.0 in /usr/local/lib/python3.9/dist-packages (from evaluate) (2.11.0)\n",
            "Requirement already satisfied: requests>=2.19.0 in /usr/local/lib/python3.9/dist-packages (from evaluate) (2.27.1)\n",
            "Requirement already satisfied: tqdm>=4.62.1 in /usr/local/lib/python3.9/dist-packages (from evaluate) (4.65.0)\n",
            "Requirement already satisfied: pandas in /usr/local/lib/python3.9/dist-packages (from evaluate) (1.4.4)\n",
            "Requirement already satisfied: fsspec[http]>=2021.05.0 in /usr/local/lib/python3.9/dist-packages (from evaluate) (2023.3.0)\n",
            "Requirement already satisfied: multiprocess in /usr/local/lib/python3.9/dist-packages (from evaluate) (0.70.14)\n",
            "Requirement already satisfied: responses<0.19 in /usr/local/lib/python3.9/dist-packages (from evaluate) (0.18.0)\n",
            "Requirement already satisfied: dill in /usr/local/lib/python3.9/dist-packages (from evaluate) (0.3.6)\n",
            "Requirement already satisfied: numpy>=1.17 in /usr/local/lib/python3.9/dist-packages (from evaluate) (1.22.4)\n",
            "Requirement already satisfied: packaging in /usr/local/lib/python3.9/dist-packages (from evaluate) (23.0)\n",
            "Requirement already satisfied: xxhash in /usr/local/lib/python3.9/dist-packages (from evaluate) (3.2.0)\n",
            "Requirement already satisfied: huggingface-hub>=0.7.0 in /usr/local/lib/python3.9/dist-packages (from evaluate) (0.13.3)\n",
            "Requirement already satisfied: pyyaml>=5.1 in /usr/local/lib/python3.9/dist-packages (from datasets>=2.0.0->evaluate) (6.0)\n",
            "Requirement already satisfied: aiohttp in /usr/local/lib/python3.9/dist-packages (from datasets>=2.0.0->evaluate) (3.8.4)\n",
            "Requirement already satisfied: pyarrow>=8.0.0 in /usr/local/lib/python3.9/dist-packages (from datasets>=2.0.0->evaluate) (9.0.0)\n",
            "Requirement already satisfied: typing-extensions>=3.7.4.3 in /usr/local/lib/python3.9/dist-packages (from huggingface-hub>=0.7.0->evaluate) (4.5.0)\n",
            "Requirement already satisfied: filelock in /usr/local/lib/python3.9/dist-packages (from huggingface-hub>=0.7.0->evaluate) (3.10.7)\n",
            "Requirement already satisfied: urllib3<1.27,>=1.21.1 in /usr/local/lib/python3.9/dist-packages (from requests>=2.19.0->evaluate) (1.26.15)\n",
            "Requirement already satisfied: idna<4,>=2.5 in /usr/local/lib/python3.9/dist-packages (from requests>=2.19.0->evaluate) (3.4)\n",
            "Requirement already satisfied: charset-normalizer~=2.0.0 in /usr/local/lib/python3.9/dist-packages (from requests>=2.19.0->evaluate) (2.0.12)\n",
            "Requirement already satisfied: certifi>=2017.4.17 in /usr/local/lib/python3.9/dist-packages (from requests>=2.19.0->evaluate) (2022.12.7)\n",
            "Requirement already satisfied: python-dateutil>=2.8.1 in /usr/local/lib/python3.9/dist-packages (from pandas->evaluate) (2.8.2)\n",
            "Requirement already satisfied: pytz>=2020.1 in /usr/local/lib/python3.9/dist-packages (from pandas->evaluate) (2022.7.1)\n",
            "Requirement already satisfied: multidict<7.0,>=4.5 in /usr/local/lib/python3.9/dist-packages (from aiohttp->datasets>=2.0.0->evaluate) (6.0.4)\n",
            "Requirement already satisfied: async-timeout<5.0,>=4.0.0a3 in /usr/local/lib/python3.9/dist-packages (from aiohttp->datasets>=2.0.0->evaluate) (4.0.2)\n",
            "Requirement already satisfied: yarl<2.0,>=1.0 in /usr/local/lib/python3.9/dist-packages (from aiohttp->datasets>=2.0.0->evaluate) (1.8.2)\n",
            "Requirement already satisfied: frozenlist>=1.1.1 in /usr/local/lib/python3.9/dist-packages (from aiohttp->datasets>=2.0.0->evaluate) (1.3.3)\n",
            "Requirement already satisfied: attrs>=17.3.0 in /usr/local/lib/python3.9/dist-packages (from aiohttp->datasets>=2.0.0->evaluate) (22.2.0)\n",
            "Requirement already satisfied: aiosignal>=1.1.2 in /usr/local/lib/python3.9/dist-packages (from aiohttp->datasets>=2.0.0->evaluate) (1.3.1)\n",
            "Requirement already satisfied: six>=1.5 in /usr/local/lib/python3.9/dist-packages (from python-dateutil>=2.8.1->pandas->evaluate) (1.16.0)\n"
          ]
        }
      ],
      "source": [
        "!pip install transformers\n",
        "from transformers import DistilBertTokenizer, DistilBertForSequenceClassification, TrainingArguments, Trainer\n",
        "import pathlib\n",
        "import torch\n",
        "import numpy as np\n",
        "!pip install evaluate\n",
        "import evaluate\n",
        "import gensim.downloader\n",
        "import gensim.models.keyedvectors as word2vec\n",
        "from keras.models import Sequential\n",
        "from keras.layers.core import Dense, Dropout\n",
        "from keras.layers import Embedding\n",
        "from keras.preprocessing.text import Tokenizer\n",
        "from keras.layers import LSTM\n",
        "import tensorflow as tf\n",
        "\n",
        "tokenizer = DistilBertTokenizer.from_pretrained(\"distilbert-base-uncased\")\n",
        "train_text=[]\n",
        "train_sentiment=[]\n",
        "test_text=[]\n",
        "test_sentiment=[]"
      ]
    },
    {
      "cell_type": "code",
      "source": [
        "from google.colab import drive\n",
        "drive.mount('/content/drive')"
      ],
      "metadata": {
        "id": "fq2dT2T3QzMo",
        "colab": {
          "base_uri": "https://localhost:8080/",
          "height": 0
        },
        "outputId": "45fd4fd5-af89-49d1-f9fa-050816990ef8"
      },
      "execution_count": 2,
      "outputs": [
        {
          "output_type": "stream",
          "name": "stdout",
          "text": [
            "Drive already mounted at /content/drive; to attempt to forcibly remount, call drive.mount(\"/content/drive\", force_remount=True).\n"
          ]
        }
      ]
    },
    {
      "cell_type": "code",
      "source": [
        "#for sentiment in [\"pos\",\"neg\"]:\n",
        "#  for text_file in (pathlib.Path('/content/drive/MyDrive/NLP/train')/sentiment).iterdir():\n",
        "#    train_text.append(text_file.read_text())\n",
        "#    if sentiment=='pos':\n",
        "#      train_sentiment.append(0)\n",
        "#    else:\n",
        "#      train_sentiment.append(1)\n",
        "\n",
        "#print(train_text[0])\n",
        "\n",
        "for sentiment in [\"pos\", \"neg\"]:\n",
        "    path = pathlib.Path('/content/drive/MyDrive/NLP/train') / sentiment\n",
        "    for text_file in path.iterdir():\n",
        "        with text_file.open() as f:\n",
        "            train_text.append(f.read())\n",
        "            train_sentiment.append(0 if sentiment == \"pos\" else 1)\n",
        "\n",
        "print(train_text[0])\n",
        "\n",
        "#for sentiment in [\"pos\",\"neg\"]:\n",
        "#  for text_file in (pathlib.Path('/content/drive/MyDrive/NLP/test')/sentiment).iterdir():\n",
        "#    test_text.append(text_file.read_text())\n",
        "#    if sentiment=='pos':\n",
        "#      test_sentiment.append(0)\n",
        "#    else:\n",
        "#      test_sentiment.append(1)\n",
        "\n",
        "#print(test_text[0])\n",
        "\n",
        "for sentiment in [\"pos\", \"neg\"]:\n",
        "    path = pathlib.Path('/content/drive/MyDrive/NLP/test') / sentiment\n",
        "    for text_file in path.iterdir():\n",
        "        with text_file.open() as f:\n",
        "            test_text.append(f.read())\n",
        "            test_sentiment.append(0 if sentiment == \"pos\" else 1)\n",
        "\n",
        "print(test_text[0])\n",
        "\n",
        "train_tokenized = tokenizer(train_text, truncation=True, padding=True)\n",
        "test_tokenized = tokenizer(test_text, truncation=True, padding=True)"
      ],
      "metadata": {
        "id": "Zii-IHn8NbZ_",
        "colab": {
          "base_uri": "https://localhost:8080/",
          "height": 0
        },
        "outputId": "fb12f046-0c84-40a1-874e-0d02f0245991"
      },
      "execution_count": 3,
      "outputs": [
        {
          "output_type": "stream",
          "name": "stdout",
          "text": [
            "I felt it necessary to respond to the comments posted on the front page of this film's page because some of it was slightly misinformative.<br /><br />Originally I posted quotes from the original poster, but I wasn't sure if it was proper given that this is the \"comments\" index and not a message board (though we used to use 'em that way back before IMDb added the film message boards) so I will edit this to make it unnecessary.<br /><br />Well, first of all you may not be aware of this, but Gene Kelly first became famous for playing \"Pal Joey\" on Broadway in the original production. When Vincente Minnelli decided to make a Gershwin \"panorama\" film, he wanted Kelly's character to be more sophisticated than the \"goody two shoes\" roles he had been playing in most his films (with the exception of \"For Me and My Gal\"). Alan Jay Lerner was instructed to construct a new story set in Paris based on the story of \"Pal Joey\". This gave Kelly a chance to play his famous role from Broadway even though Warners had outbid MGM for the rights to \"Pal Joey.\" In my opinion, the WB film \"Pal Joey\" is a wreck, though Sinatra was suitable for the role, but other problems sunk the film (script changes and poor direction. ===================================================<br /><br />You complain that Kelly's pictures are not well done, even citing your art education to prove the point. But you miss the fact that Kelly's bad art was clearly designed to be bad, and it is necessary for the story/characters. The pictures are so bad, the audience knows that Kelly isn't ready for an exhibition. Even he knows it, though Milo has sort of sugared him up to the point where he almost believes her. But it's important that the audience not be sitting there saying \"but, he's a great artist, if he only had the chance!\". You want the audience to be fully aware of his deficiencies.<br /><br />Then you complain that he sabotages his interest in the show; again you are not understanding the structure of the story. He refuses because he doesn't want to feel like a gigolo, and because he knows he's not really ready for the exhibition. His enthusiasm for the exhibition is certainly not as great as \"Joey's\" enthusiasm to \"start a nightclub\". But it serves the same function in the plot. Remember, it's essential in \"Pal Joey\" (the play) that Joey gives up his nightclub after he realizes that he doesn't deserve it. Same with the art show. If Kelly's paintings were actually good, it would undermine this whole point. ===================================================<br /><br />Then you complain that Caron and Kelly have no \"chemistry\". I guess it's in the eye of the beholder. I agree, the chemistry between them is not as strong as it should be, but for me it was fine. Compare it to even worse \"forced\" romances like the one between Cary Grant and Sophia Loren in \"The Pride and the Passion\". ====================================================<br /><br />When you say that the big dance finale has nothing to do with anything else in this film, it just shows that you haven't dug beneath the surface of the film into its symbolism. Many elements in the dance sequence relate to the story and characters, and through the dance the plot is resolved through images and symbolism. It's about finding love, enjoying love, then losing love (he looks around and his love is gone). The movements of the symphony are constructed so that part of each dance scene mirrors a separate phase of Parisian Art and also a separate phase of their relationships. If you didn't' see that, it's not the movie's fault. It's certainly not a \"load of crap\". ==================================================\n",
            "There was a video out in America called 'Cartoon Scandals' that featured about an hours worth of banned cartoons.<br /><br />Most of them were WWII era. That's where I first saw (and heard of) this one.<br /><br />The rooster during the opening news broadcast turns into a vulture with an Asian face saying 'cock-a-doodle-doo please.' After that it's eight minutes of propaganda played out like a newsreel.<br /><br />Viscously racist, but when you look at it as the piece of history it is, it can (and should) be forgiven.<br /><br />Slicing ration cards to make sandwiches.<br /><br />Showing the ruins of Rome while calling Moussolini 'Ruin #1.'<br /><br />A minesweeper using a broom.<br /><br />A manned bomb with the pilot saying 'RET ME OUT OF HERE.' <br /><br />And of course the stereotyping. Every Japanese was drawn with big teeth, constantly bowing, and saying 'please' at the end of every broken sentence.<br /><br />The funniest bit? The air raid siren that was two bowing men stabbing each other in the tush with pins. \"oooo-OOOOOO\" <br /><br />Hey AOL. Let this one out. It deserves notice. My wife laughed at this. And she's 100% Japanese.\n"
          ]
        }
      ]
    },
    {
      "cell_type": "code",
      "source": [
        "class Dataset(torch.utils.data.Dataset):\n",
        "    def __init__(self, encodings, labels):\n",
        "        self.encodings = encodings\n",
        "        self.labels = labels\n",
        "\n",
        "    def __getitem__(self, idx):\n",
        "        item = {key: torch.tensor(val[idx]) for key, val in self.encodings.items()}\n",
        "        item['labels'] = torch.tensor(self.labels[idx])\n",
        "        return item\n",
        "\n",
        "    def __len__(self):\n",
        "        return len(self.labels)\n",
        "\n",
        "train_dataset = Dataset(train_tokenized, train_sentiment)\n",
        "test_dataset = Dataset(test_tokenized, test_sentiment)\n",
        "\n",
        "metric = evaluate.load(\"accuracy\")\n",
        "\n",
        "def compute_metrics(eval_pred):\n",
        "    logits, labels = eval_pred\n",
        "    predictions = np.argmax(logits, axis=-1)\n",
        "    return metric.compute(predictions=predictions, references=labels)"
      ],
      "metadata": {
        "id": "CSJJLzsZNfKs",
        "colab": {
          "base_uri": "https://localhost:8080/",
          "height": 49,
          "referenced_widgets": [
            "c6462c7851ca4c46bfd80b0db4f59e43",
            "121e92ab6f124a439f27062507c0dd01",
            "51f1b2b811d04501885cc70d2fa92bd5",
            "3aae7683d65f4577ba37f0fa4befcfd0",
            "673056f82a9a4a92a93359eed3b2916e",
            "220d0e5c9dbd468d99c82cd1a2c31758",
            "6b02312615fe4994918cc48eaaebe6d6",
            "fff4efc2489645c8b4a4cf03ca476147",
            "87dbcfd6898d4dcd93c277b54fdda012",
            "39a927b6e837457593f4b6126665ed27",
            "41718010ee6f492788535c8accf99345"
          ]
        },
        "outputId": "a568d43b-1f38-47cc-c674-b9e50a39ac1f"
      },
      "execution_count": 4,
      "outputs": [
        {
          "output_type": "display_data",
          "data": {
            "text/plain": [
              "Downloading builder script:   0%|          | 0.00/4.20k [00:00<?, ?B/s]"
            ],
            "application/vnd.jupyter.widget-view+json": {
              "version_major": 2,
              "version_minor": 0,
              "model_id": "c6462c7851ca4c46bfd80b0db4f59e43"
            }
          },
          "metadata": {}
        }
      ]
    },
    {
      "cell_type": "code",
      "source": [
        "#FineTuning Model\n",
        "modelFineTuning = DistilBertForSequenceClassification.from_pretrained('distilbert-base-uncased')\n",
        "modelFineTuning.classifier = torch.nn.Linear(768, 2)\n",
        "modelFineTuning.num_labels = 2\n",
        "\n",
        "training_args = TrainingArguments(output_dir=\"test_trainer\", evaluation_strategy=\"epoch\",num_train_epochs=3)\n",
        "trainer_Fine_Tuning = Trainer(model=modelFineTuning,args=training_args,train_dataset=train_dataset,eval_dataset=test_dataset,compute_metrics=compute_metrics)\n",
        "trainer_Fine_Tuning.train()"
      ],
      "metadata": {
        "id": "cC0o9_1-OShV",
        "colab": {
          "base_uri": "https://localhost:8080/",
          "height": 377,
          "referenced_widgets": [
            "b91742e0a81941f0a4bab21315ad545c",
            "ffdce4e7db4344609fb4baaa2f87c8f4",
            "009e475dd1774204b9f0620f2a96e4bb",
            "57f97762379c4c9181d2b9f7fd0e663f",
            "eb89e66156294017a95f0bd71101690a",
            "fba30ea8c9804c44a6e85b759700c935",
            "d720b6bcce624a7ea334921d9fe116b0",
            "a85f531641344a93917d35f4f857a534",
            "2e5f9dabe3764b36b8cd6fbd9f2d9f21",
            "8ed2103cf43f486ea0645bde8daadb44",
            "60fc3d9163474fad86327abe01636c8c"
          ]
        },
        "outputId": "1f2b9024-d2ea-4ed2-dacd-dda95c3eb83a"
      },
      "execution_count": 5,
      "outputs": [
        {
          "output_type": "display_data",
          "data": {
            "text/plain": [
              "Downloading pytorch_model.bin:   0%|          | 0.00/268M [00:00<?, ?B/s]"
            ],
            "application/vnd.jupyter.widget-view+json": {
              "version_major": 2,
              "version_minor": 0,
              "model_id": "b91742e0a81941f0a4bab21315ad545c"
            }
          },
          "metadata": {}
        },
        {
          "output_type": "stream",
          "name": "stderr",
          "text": [
            "Some weights of the model checkpoint at distilbert-base-uncased were not used when initializing DistilBertForSequenceClassification: ['vocab_transform.weight', 'vocab_layer_norm.weight', 'vocab_projector.weight', 'vocab_transform.bias', 'vocab_layer_norm.bias', 'vocab_projector.bias']\n",
            "- This IS expected if you are initializing DistilBertForSequenceClassification from the checkpoint of a model trained on another task or with another architecture (e.g. initializing a BertForSequenceClassification model from a BertForPreTraining model).\n",
            "- This IS NOT expected if you are initializing DistilBertForSequenceClassification from the checkpoint of a model that you expect to be exactly identical (initializing a BertForSequenceClassification model from a BertForSequenceClassification model).\n",
            "Some weights of DistilBertForSequenceClassification were not initialized from the model checkpoint at distilbert-base-uncased and are newly initialized: ['pre_classifier.weight', 'classifier.weight', 'pre_classifier.bias', 'classifier.bias']\n",
            "You should probably TRAIN this model on a down-stream task to be able to use it for predictions and inference.\n",
            "/usr/local/lib/python3.9/dist-packages/transformers/optimization.py:391: FutureWarning: This implementation of AdamW is deprecated and will be removed in a future version. Use the PyTorch implementation torch.optim.AdamW instead, or set `no_deprecation_warning=True` to disable this warning\n",
            "  warnings.warn(\n"
          ]
        },
        {
          "output_type": "display_data",
          "data": {
            "text/plain": [
              "<IPython.core.display.HTML object>"
            ],
            "text/html": [
              "\n",
              "    <div>\n",
              "      \n",
              "      <progress value='9387' max='9387' style='width:300px; height:20px; vertical-align: middle;'></progress>\n",
              "      [9387/9387 1:22:28, Epoch 3/3]\n",
              "    </div>\n",
              "    <table border=\"1\" class=\"dataframe\">\n",
              "  <thead>\n",
              " <tr style=\"text-align: left;\">\n",
              "      <th>Epoch</th>\n",
              "      <th>Training Loss</th>\n",
              "      <th>Validation Loss</th>\n",
              "      <th>Accuracy</th>\n",
              "    </tr>\n",
              "  </thead>\n",
              "  <tbody>\n",
              "    <tr>\n",
              "      <td>1</td>\n",
              "      <td>0.278100</td>\n",
              "      <td>0.245568</td>\n",
              "      <td>0.913400</td>\n",
              "    </tr>\n",
              "    <tr>\n",
              "      <td>2</td>\n",
              "      <td>0.167600</td>\n",
              "      <td>0.306309</td>\n",
              "      <td>0.929040</td>\n",
              "    </tr>\n",
              "    <tr>\n",
              "      <td>3</td>\n",
              "      <td>0.065900</td>\n",
              "      <td>0.369716</td>\n",
              "      <td>0.929440</td>\n",
              "    </tr>\n",
              "  </tbody>\n",
              "</table><p>"
            ]
          },
          "metadata": {}
        },
        {
          "output_type": "execute_result",
          "data": {
            "text/plain": [
              "TrainOutput(global_step=9387, training_loss=0.18176126038163337, metrics={'train_runtime': 4951.9381, 'train_samples_per_second': 15.164, 'train_steps_per_second': 1.896, 'total_flos': 9946976965079040.0, 'train_loss': 0.18176126038163337, 'epoch': 3.0})"
            ]
          },
          "metadata": {},
          "execution_count": 5
        }
      ]
    },
    {
      "cell_type": "code",
      "source": [
        "#LinearProbing model\n",
        "modelLinearProbing = DistilBertForSequenceClassification.from_pretrained('distilbert-base-uncased')\n",
        "modelLinearProbing.classifier = torch.nn.Linear(768, 2)\n",
        "modelLinearProbing.num_labels = 2\n",
        "\n",
        "training_args = TrainingArguments(output_dir=\"test_trainer\", evaluation_strategy=\"epoch\",num_train_epochs=3)\n",
        "trainer_Linear_Probing = Trainer(model=modelLinearProbing,args=training_args,train_dataset=train_dataset,eval_dataset=test_dataset,compute_metrics=compute_metrics,)\n",
        "\n",
        "for param in modelLinearProbing.base_model.parameters():\n",
        "    param.requires_grad = False\n",
        "\n",
        "trainer_Linear_Probing.train()"
      ],
      "metadata": {
        "id": "UcYJzFedOfQJ",
        "colab": {
          "base_uri": "https://localhost:8080/",
          "height": 466
        },
        "outputId": "f9587a5f-0727-4288-99de-ca88a75cf512"
      },
      "execution_count": 6,
      "outputs": [
        {
          "metadata": {
            "tags": null
          },
          "name": "stderr",
          "output_type": "stream",
          "text": [
            "Some weights of the model checkpoint at distilbert-base-uncased were not used when initializing DistilBertForSequenceClassification: ['vocab_transform.weight', 'vocab_layer_norm.weight', 'vocab_projector.weight', 'vocab_transform.bias', 'vocab_layer_norm.bias', 'vocab_projector.bias']\n",
            "- This IS expected if you are initializing DistilBertForSequenceClassification from the checkpoint of a model trained on another task or with another architecture (e.g. initializing a BertForSequenceClassification model from a BertForPreTraining model).\n",
            "- This IS NOT expected if you are initializing DistilBertForSequenceClassification from the checkpoint of a model that you expect to be exactly identical (initializing a BertForSequenceClassification model from a BertForSequenceClassification model).\n",
            "Some weights of DistilBertForSequenceClassification were not initialized from the model checkpoint at distilbert-base-uncased and are newly initialized: ['pre_classifier.weight', 'classifier.weight', 'pre_classifier.bias', 'classifier.bias']\n",
            "You should probably TRAIN this model on a down-stream task to be able to use it for predictions and inference.\n",
            "/usr/local/lib/python3.9/dist-packages/transformers/optimization.py:391: FutureWarning: This implementation of AdamW is deprecated and will be removed in a future version. Use the PyTorch implementation torch.optim.AdamW instead, or set `no_deprecation_warning=True` to disable this warning\n",
            "  warnings.warn(\n"
          ]
        },
        {
          "data": {
            "text/html": [
              "\n",
              "    <div>\n",
              "      \n",
              "      <progress value='6506' max='9387' style='width:300px; height:20px; vertical-align: middle;'></progress>\n",
              "      [6506/9387 29:25 < 13:01, 3.68 it/s, Epoch 2.08/3]\n",
              "    </div>\n",
              "    <table border=\"1\" class=\"dataframe\">\n",
              "  <thead>\n",
              " <tr style=\"text-align: left;\">\n",
              "      <th>Epoch</th>\n",
              "      <th>Training Loss</th>\n",
              "      <th>Validation Loss</th>\n",
              "      <th>Accuracy</th>\n",
              "    </tr>\n",
              "  </thead>\n",
              "  <tbody>\n",
              "    <tr>\n",
              "      <td>1</td>\n",
              "      <td>0.364600</td>\n",
              "      <td>0.355363</td>\n",
              "      <td>0.844800</td>\n",
              "    </tr>\n",
              "    <tr>\n",
              "      <td>2</td>\n",
              "      <td>0.342600</td>\n",
              "      <td>0.334415</td>\n",
              "      <td>0.857960</td>\n",
              "    </tr>\n",
              "  </tbody>\n",
              "</table><p>"
            ],
            "text/plain": [
              "<IPython.core.display.HTML object>"
            ]
          },
          "metadata": {},
          "output_type": "display_data"
        },
        {
          "output_type": "display_data",
          "data": {
            "text/plain": [
              "<IPython.core.display.HTML object>"
            ],
            "text/html": [
              "\n",
              "    <div>\n",
              "      \n",
              "      <progress value='9387' max='9387' style='width:300px; height:20px; vertical-align: middle;'></progress>\n",
              "      [9387/9387 43:12, Epoch 3/3]\n",
              "    </div>\n",
              "    <table border=\"1\" class=\"dataframe\">\n",
              "  <thead>\n",
              " <tr style=\"text-align: left;\">\n",
              "      <th>Epoch</th>\n",
              "      <th>Training Loss</th>\n",
              "      <th>Validation Loss</th>\n",
              "      <th>Accuracy</th>\n",
              "    </tr>\n",
              "  </thead>\n",
              "  <tbody>\n",
              "    <tr>\n",
              "      <td>1</td>\n",
              "      <td>0.364600</td>\n",
              "      <td>0.355363</td>\n",
              "      <td>0.844800</td>\n",
              "    </tr>\n",
              "    <tr>\n",
              "      <td>2</td>\n",
              "      <td>0.342600</td>\n",
              "      <td>0.334415</td>\n",
              "      <td>0.857960</td>\n",
              "    </tr>\n",
              "    <tr>\n",
              "      <td>3</td>\n",
              "      <td>0.361100</td>\n",
              "      <td>0.332943</td>\n",
              "      <td>0.859160</td>\n",
              "    </tr>\n",
              "  </tbody>\n",
              "</table><p>"
            ]
          },
          "metadata": {}
        },
        {
          "output_type": "execute_result",
          "data": {
            "text/plain": [
              "TrainOutput(global_step=9387, training_loss=0.37530816511896026, metrics={'train_runtime': 2593.081, 'train_samples_per_second': 28.958, 'train_steps_per_second': 3.62, 'total_flos': 9946976965079040.0, 'train_loss': 0.37530816511896026, 'epoch': 3.0})"
            ]
          },
          "metadata": {},
          "execution_count": 6
        }
      ]
    },
    {
      "cell_type": "code",
      "source": [
        "wordtovecmodel=gensim.downloader.load('glove-twitter-200')\n",
        "tokenize = Tokenizer(num_words=88583)\n",
        "tokenize.fit_on_texts(train_text)\n",
        "words_index=tokenize.word_index\n",
        "train_x = tokenize.texts_to_sequences(train_text)\n",
        "maxlen=200\n",
        "train_x=tf.keras.preprocessing.sequence.pad_sequences(train_x, maxlen=maxlen)\n",
        "tokenize.fit_on_texts(test_text)\n",
        "test_x = tokenize.texts_to_sequences(test_text)\n",
        "test_x=tf.keras.preprocessing.sequence.pad_sequences(test_x, maxlen=maxlen)\n",
        "embedding_matrix = np.zeros((len(words_index) + 1, maxlen))\n",
        "for word, i in words_index.items():\n",
        "  if word in wordtovecmodel:\n",
        "    embedding_vector = wordtovecmodel[word]\n",
        "    embedding_matrix[i] = embedding_vector\n",
        "embedding_layer = Embedding(input_dim=len(words_index) + 1,output_dim=maxlen,weights=[embedding_matrix],input_length=maxlen,trainable=False)\n",
        "modelLSTM = Sequential()\n",
        "modelLSTM.add(embedding_layer)\n",
        "modelLSTM.add(LSTM(units=100))\n",
        "modelLSTM.add(Dense(1, activation='sigmoid'))\n",
        "modelLSTM.compile(loss='binary_crossentropy', optimizer='adam', metrics=['accuracy'])\n",
        "print(modelLSTM.summary())\n",
        "modelLSTM.compile(loss='binary_crossentropy',optimizer='adam',metrics=['accuracy'])\n",
        "modelLSTM.fit(train_x,np.array(train_sentiment), epochs=3,validation_data=(test_x, np.array(test_sentiment)))"
      ],
      "metadata": {
        "id": "UkxE9hEPOlxm",
        "colab": {
          "base_uri": "https://localhost:8080/",
          "height": 0
        },
        "outputId": "50ddf674-9caa-4bf9-9464-23f157e60f23"
      },
      "execution_count": 7,
      "outputs": [
        {
          "output_type": "stream",
          "name": "stdout",
          "text": [
            "[=================================================-] 99.9% 758.1/758.5MB downloaded\n",
            "Model: \"sequential\"\n",
            "_________________________________________________________________\n",
            " Layer (type)                Output Shape              Param #   \n",
            "=================================================================\n",
            " embedding (Embedding)       (None, 200, 200)          17716600  \n",
            "                                                                 \n",
            " lstm (LSTM)                 (None, 100)               120400    \n",
            "                                                                 \n",
            " dense (Dense)               (None, 1)                 101       \n",
            "                                                                 \n",
            "=================================================================\n",
            "Total params: 17,837,101\n",
            "Trainable params: 120,501\n",
            "Non-trainable params: 17,716,600\n",
            "_________________________________________________________________\n",
            "None\n",
            "Epoch 1/3\n",
            "783/783 [==============================] - 19s 17ms/step - loss: 0.5153 - accuracy: 0.7526 - val_loss: 0.7641 - val_accuracy: 0.5556\n",
            "Epoch 2/3\n",
            "783/783 [==============================] - 13s 17ms/step - loss: 0.3716 - accuracy: 0.8383 - val_loss: 0.8315 - val_accuracy: 0.5624\n",
            "Epoch 3/3\n",
            "783/783 [==============================] - 11s 14ms/step - loss: 0.3045 - accuracy: 0.8727 - val_loss: 0.8995 - val_accuracy: 0.5580\n"
          ]
        },
        {
          "output_type": "execute_result",
          "data": {
            "text/plain": [
              "<keras.callbacks.History at 0x7fa5a5d27fa0>"
            ]
          },
          "metadata": {},
          "execution_count": 7
        }
      ]
    },
    {
      "cell_type": "code",
      "source": [
        "print(\"Fine tuned model with layers\",)\n",
        "print(trainer_Fine_Tuning.evaluate(eval_dataset=test_dataset))\n",
        "print(\"*****************************\")\n",
        "print(\"Linear Probing model i.e. after freezing the layers\",)\n",
        "print(trainer_Linear_Probing.evaluate(eval_dataset=test_dataset))\n",
        "print(\"*****************************\")\n",
        "#trainer_Fine_Tuning.save_model(\"Finetuning_1\")\n",
        "#trainer_Linear_Probing.save_model(\"Finetuning_2\")\n",
        "loss, accuracy = modelLSTM.evaluate(test_x,np.array(test_sentiment))"
      ],
      "metadata": {
        "id": "fLMQrv6fNKs9",
        "colab": {
          "base_uri": "https://localhost:8080/",
          "height": 199
        },
        "outputId": "bdff1f65-7577-4dc6-f5fc-0a8508858aaf"
      },
      "execution_count": 8,
      "outputs": [
        {
          "metadata": {
            "tags": null
          },
          "name": "stdout",
          "output_type": "stream",
          "text": [
            "Fine tuned model with layers\n"
          ]
        },
        {
          "data": {
            "text/html": [
              "\n",
              "    <div>\n",
              "      \n",
              "      <progress value='746' max='3125' style='width:300px; height:20px; vertical-align: middle;'></progress>\n",
              "      [ 746/3125 01:40 < 05:21, 7.39 it/s]\n",
              "    </div>\n",
              "    "
            ],
            "text/plain": [
              "<IPython.core.display.HTML object>"
            ]
          },
          "metadata": {},
          "output_type": "display_data"
        },
        {
          "output_type": "display_data",
          "data": {
            "text/plain": [
              "<IPython.core.display.HTML object>"
            ],
            "text/html": [
              "\n",
              "    <div>\n",
              "      \n",
              "      <progress value='3125' max='3125' style='width:300px; height:20px; vertical-align: middle;'></progress>\n",
              "      [3125/3125 07:01]\n",
              "    </div>\n",
              "    "
            ]
          },
          "metadata": {}
        },
        {
          "output_type": "stream",
          "name": "stdout",
          "text": [
            "{'eval_loss': 0.36971569061279297, 'eval_accuracy': 0.92944, 'eval_runtime': 421.7912, 'eval_samples_per_second': 59.271, 'eval_steps_per_second': 7.409, 'epoch': 3.0}\n",
            "*****************************\n",
            "Linear Probing model i.e. after freezing the layers\n"
          ]
        },
        {
          "output_type": "display_data",
          "data": {
            "text/plain": [
              "<IPython.core.display.HTML object>"
            ],
            "text/html": [
              "\n",
              "    <div>\n",
              "      \n",
              "      <progress value='3125' max='3125' style='width:300px; height:20px; vertical-align: middle;'></progress>\n",
              "      [3125/3125 06:59]\n",
              "    </div>\n",
              "    "
            ]
          },
          "metadata": {}
        },
        {
          "output_type": "stream",
          "name": "stdout",
          "text": [
            "{'eval_loss': 0.33294305205345154, 'eval_accuracy': 0.85916, 'eval_runtime': 419.5476, 'eval_samples_per_second': 59.588, 'eval_steps_per_second': 7.448, 'epoch': 3.0}\n",
            "*****************************\n",
            "782/782 [==============================] - 4s 5ms/step - loss: 0.8995 - accuracy: 0.5580\n"
          ]
        }
      ]
    },
    {
      "cell_type": "code",
      "source": [],
      "metadata": {
        "id": "JXtDH0sDLDlP"
      },
      "execution_count": 8,
      "outputs": []
    }
  ]
}